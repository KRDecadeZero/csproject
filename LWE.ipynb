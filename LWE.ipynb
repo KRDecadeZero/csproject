{
 "cells": [
  {
   "cell_type": "code",
   "execution_count": 1,
   "metadata": {},
   "outputs": [],
   "source": [
    "import numpy as np\n",
    "import pandas as pd\n",
    "import time\n",
    "import sys\n",
    "import bitstring\n",
    "import matplotlib.pyplot as plt\n",
    "import pandas as pd"
   ]
  },
  {
   "cell_type": "code",
   "execution_count": 2,
   "metadata": {},
   "outputs": [],
   "source": [
    "def keygenerate(q, m, n):\n",
    "    s = np.random.randint(0, 2, (n))\n",
    "    A = np.random.randint(0, q, (m, n))\n",
    "\n",
    "    e = np.round(np.random.normal(loc=0, scale=q*0.01, size=m)).astype(int)\n",
    "   \n",
    "    print(e)\n",
    "   \n",
    "    b = (np.dot(A, s) + e) % q\n",
    "\n",
    "    return (A, b), s"
   ]
  },
  {
   "cell_type": "code",
   "execution_count": 3,
   "metadata": {},
   "outputs": [],
   "source": [
    "def encrypt(plaintext, publickey, q):\n",
    "    A, b = publickey\n",
    "    m = A.shape[0]\n",
    "    ct = np.zeros(len(plaintext), dtype=object)\n",
    "    for i in range(len(plaintext)):\n",
    "        r = np.random.randint(0, 2, (m))\n",
    "        a_prime = (np.dot(r, A)) % q\n",
    "        if plaintext[i] == 0:\n",
    "            b_prime = np.dot(r, b) % q\n",
    "        elif plaintext[i] == 1:\n",
    "            b_prime = (np.dot(r, b) + np.dot(plaintext[i], q//2)) % q\n",
    "\n",
    "        ct[i] = (a_prime, b_prime)\n",
    "    return ct"
   ]
  },
  {
   "cell_type": "code",
   "execution_count": 4,
   "metadata": {},
   "outputs": [],
   "source": [
    "def decrypt(ciphertext, privatekey, q):\n",
    "    privatekey = np.array(privatekey)\n",
    "    pt = np.zeros(len(ciphertext), dtype=int)\n",
    "    for i in range(len(ciphertext)):\n",
    "        a_prime, b_prime = ciphertext[i]\n",
    "        v = (np.dot(a_prime, privatekey)) \n",
    "        m_prime = abs(b_prime - v) % q\n",
    "\n",
    "        diff0 = abs(m_prime - q)\n",
    "        diff1 = abs(m_prime - q//2)\n",
    "        \n",
    "        if diff0 < diff1 or m_prime < diff1:\n",
    "            pt[i] = 0\n",
    "        elif diff0 > diff1:\n",
    "            pt[i] = 1\n",
    "\n",
    "    return pt"
   ]
  },
  {
   "cell_type": "markdown",
   "metadata": {},
   "source": [
    "### Example"
   ]
  },
  {
   "cell_type": "code",
   "execution_count": 5,
   "metadata": {},
   "outputs": [
    {
     "name": "stdout",
     "output_type": "stream",
     "text": [
      "[ -71 -205  -11  260   38  -78  -79  -39   47   10   60  157   31  -76\n",
      "   87   63   74    5  -34   79   44   -4  -24  -76   88  124   56  -84\n",
      "   75   20  -79   54   65  -22   66  102  -25  -96  -89   -8 -104 -126\n",
      "   75 -123  -59  124   13   83   62    2  -79    1   23 -100   11  -24\n",
      "   39   24  -50  -87 -152 -127   28  -49   46 -115  -15  -50  -10   31\n",
      "   74  -22  193  114  -63  -95   55  -23  -22  103   29  -62  115  -46\n",
      "  -23   53   -7  158   64  -35   69   -2   60  -95  139    9   63   87\n",
      "  -70   63   49   51 -108   31   44  120   88    0  152   36  -24  -82\n",
      "  117 -112   51   77  -30 -140   79   99   44 -185   56 -125   17  117\n",
      "   94  -77  -37   55 -104   42  125  -65  -10  -62  206   37    7   24\n",
      "  -45  -79 -114  109   -1  -17 -126  -40 -102  -93    1    5  143 -118\n",
      "   54   62  147    2  -20  155  108 -110    8  100  129  -19  -30  145\n",
      "  -72 -144   29   37  -33    8  -48   15  -64   37 -111   99   78   -1\n",
      "  108  194  -56   91    7  -21  140  105  -21   41   30  -50   78  -19\n",
      "  166   88  -34 -102   38   83   13  229  -16  123    3   53  -26   71\n",
      "  -43   13 -192   79 -128   65   24   87  -39  -42 -143  118  -18   62\n",
      "  -75 -115    6   25  -25    6  -37    2  -21   72  134  -93  -42  -63\n",
      " -153  101  138  157  -21  -45  -65   52  -25 -113   30 -194 -102   -4\n",
      "  106   -4  -64  -23   58   49 -104  -40 -103   28   72    0   47  116\n",
      "  -22   68   50  -69   47   87  -25  -60   22  -73  -71    4  -54   72\n",
      "   -8 -105  -17    7  140   24 -107   18  -46   51  -75  127 -165   90\n",
      "    3   -5  -37   64 -135  -71  135 -112   77  204    6  -67  -28  -69\n",
      "   39  139 -213  107   97 -174   10  117  -79   26   93   13]\n"
     ]
    }
   ],
   "source": [
    "q = 2**13\n",
    "\n",
    "publickey, s = keygenerate(q, 320, 320)"
   ]
  },
  {
   "cell_type": "code",
   "execution_count": 6,
   "metadata": {},
   "outputs": [
    {
     "data": {
      "text/plain": [
       "array([(array([7752, 2457, 2554, 5048,  419,  644, 5146, 1409, 1584, 2338,  711,\n",
       "              5362, 5356, 5310, 4871, 4767, 3040, 4140, 5050, 7018, 7206, 8058,\n",
       "              5114, 4427, 3334, 5032, 3443, 5607, 2362, 3808, 1312, 5282, 4850,\n",
       "               751, 4222, 5756, 2508, 2718, 3002, 4816, 8145, 7867, 6746, 1505,\n",
       "               252,  469,  642, 2663, 2473, 1139,  638, 2270, 2918, 6641, 3444,\n",
       "              7402, 2038, 3964,  596, 3450,  953, 1839, 1669, 4011, 3337, 1227,\n",
       "              3745, 7473, 6973, 2681, 1398, 6419,  902, 1466,  118, 3915, 1514,\n",
       "              7893, 7148, 2681, 1295, 7112,  538,  453, 7152, 7758, 3307,  849,\n",
       "              5657, 3664, 1499, 5267, 2172, 1153, 6017, 5421, 7519, 4483, 1882,\n",
       "              7318, 8147, 1609, 3685, 7554, 1516, 5885, 4071, 6640, 1111, 8007,\n",
       "               594, 7189,  471, 3731, 4137, 1977, 7279, 4926, 5711, 3726, 2069,\n",
       "              3087,  379, 5625,  808, 1126, 3636, 4066, 2206, 6285, 5341, 1163,\n",
       "              3770, 1329, 4331, 3304, 7515, 6025, 5664, 6135, 5738, 6645, 3080,\n",
       "              5925, 5140, 3282, 3038, 4251, 4945,  524, 3942, 5786, 2395, 6276,\n",
       "               975, 4550, 3939, 3060, 1427, 7298, 2692, 3782, 2352, 7907, 2361,\n",
       "              3855, 2599, 5637, 2068, 6174, 3079, 6867, 1843, 5670, 6793, 5276,\n",
       "              6254, 7495, 2424, 5316, 3306, 3170, 3206, 5945, 4877, 7540, 5403,\n",
       "              5886, 4198, 7399, 5801,  996, 2934, 2420, 4824, 7525, 3700, 7590,\n",
       "              2476, 6061, 2045, 3302,  691, 2064, 1249, 5651, 2683, 7371, 6925,\n",
       "              6031, 1714, 1893, 4989, 2146, 4809, 7726,  129, 6560, 6227, 3460,\n",
       "              2881, 6582, 4438, 4568, 1313, 7028, 5729, 6077, 7227,   77, 3874,\n",
       "              7920, 4297, 2202, 3103, 4796, 3031, 1616, 6336, 5966, 3149,  269,\n",
       "              1410, 5320, 6555, 3819, 2884,  967, 8065, 5055, 7543,  783, 5831,\n",
       "              1053,  249, 6106, 5775, 1684,  372, 3782, 6456, 8169, 5259, 1101,\n",
       "              7937, 5415, 6290, 3831, 8017, 1341, 7134, 2610, 3761, 1145, 4750,\n",
       "              2836, 1552, 6579, 3911, 5706, 1516, 6439, 6793, 1553, 4910, 3667,\n",
       "              3830,  880, 1203, 6997, 6821, 2032, 1277, 8046, 7200, 1710, 7332,\n",
       "              4048, 6392,  405, 5704,  601, 5784, 7709, 1564, 6851, 3497, 1497,\n",
       "              6611,  737, 2551, 1072, 3211, 6282, 6250, 2732, 5033, 3726,  393,\n",
       "              4002], dtype=int32), 3931)                                        ,\n",
       "       (array([6112, 2014, 6604, 5924, 3948, 5581, 7105, 1678,  342, 1532,  317,\n",
       "              1768, 5551, 3862, 6557, 6480, 3791, 5667, 3470, 4266, 2330, 6106,\n",
       "               268, 1021, 7409,  378, 1646, 7177, 5032, 1439,  718, 1544, 6543,\n",
       "              3339, 3321, 2725, 7678, 2161,  465, 1651, 6949, 8022, 3120, 6608,\n",
       "              2438, 3584, 1491, 3774, 4371, 1081, 1398, 3895,  854, 5680, 4911,\n",
       "              6169,  412,  721, 2386, 8186, 3431, 4640, 1166, 6964, 3277, 3837,\n",
       "              3166, 6567, 7177,  371, 1694, 5566, 4833, 3179, 5835, 2960, 8032,\n",
       "              3915, 6773, 6270,   11, 7446, 7593, 1736, 6442, 2855, 2587, 5758,\n",
       "              5823, 6366, 5859, 7834, 3996, 1060, 7504,  324, 2853, 5312, 7766,\n",
       "               828,  330, 3261,  843, 1429, 8116, 2273, 3421, 7559, 3336, 2591,\n",
       "              7642, 7815, 7970, 3378, 1107, 6309, 5942, 1216, 1919, 5404, 5965,\n",
       "               323, 3984, 3254, 7331, 1419, 6858, 1875, 5521, 2681, 6530, 2024,\n",
       "              7595,  826, 2774, 7704, 5643, 2879, 6573, 5375, 6028, 7739, 8162,\n",
       "              3070, 5425, 5097, 5928, 6754, 5922, 2406, 5348, 2827, 3563, 3877,\n",
       "              3300,  844, 2943, 5668, 6668, 6448, 5935, 6446, 5682, 4485, 1596,\n",
       "              6316, 7554, 1175,  617, 4555, 1721, 4784, 7339, 3100, 1273,   33,\n",
       "              5156, 4442, 4647, 5630, 1179, 2238, 1445, 7272, 3693, 1280, 4595,\n",
       "               145, 6964, 2481, 5929, 8101, 3045, 4239, 4807, 1722, 2340, 1835,\n",
       "              6708,  170, 7186, 1737, 5571, 5724, 5954, 4468, 7960, 6711, 5036,\n",
       "              4159, 6439,  586, 2706, 1342, 7060, 7682, 3522, 8124, 1014, 2717,\n",
       "              7636, 5373, 4836, 3316,  232, 7939, 4337, 5445, 7696, 2431, 5785,\n",
       "              4807, 4159, 6721, 3764, 2692, 4742, 8052, 1544,  186, 1940, 7017,\n",
       "              1233, 2596, 5290, 7674, 8101, 3694, 5024, 7937, 1357, 1363,   29,\n",
       "               503, 6893, 8031, 1284, 4628, 7301, 7440,  523, 5144,  750, 4360,\n",
       "               256, 3138, 7878, 7807, 6884, 4371,  431, 7099, 6391, 5980, 1657,\n",
       "              4197, 4855, 8150, 3056, 7875, 6564, 8083, 7512, 5949, 4120, 6098,\n",
       "              3079, 3686, 5478, 5191, 2315, 4886,  631, 6106,  724, 2882, 5401,\n",
       "              7500, 2456, 6766, 7247,  258,  610, 3124, 1079, 4609, 7090, 3983,\n",
       "              3118, 6122, 1818, 1734, 3717, 3439, 1981, 1984, 3877, 7127, 7885,\n",
       "              7798], dtype=int32), 7062)                                        ,\n",
       "       (array([6957, 6542, 6564, 7909, 2333, 1966,  635, 8037, 6260, 1941, 5853,\n",
       "              5090, 5754, 7996,  221,  708,  268, 2274, 2442, 3418, 7008, 3629,\n",
       "                25, 2814, 4133, 6767, 4592, 3803, 4169, 1673, 4535, 3981, 5996,\n",
       "              5469, 1511,  193, 4546, 3086, 2562, 4575,  411, 4619, 7398, 5774,\n",
       "              2254, 6968, 6573, 4552, 5176, 7548, 1763,  882, 7254, 6168, 1093,\n",
       "              6158, 6041, 1004, 6246,  613, 7407, 3340, 4028, 4043, 3348, 6455,\n",
       "              7242, 6999, 4596, 5226,  563, 2257, 3118,  542, 5703, 2130, 2813,\n",
       "              4192, 3121, 4505, 3721, 5251, 7142, 3368, 1219, 4681, 1015, 5992,\n",
       "               633, 2416, 5502, 3703, 7759,  969, 3207, 2677, 5244, 1696, 3050,\n",
       "              3180, 6694, 1574, 6764, 4756,  549, 2143,  693, 3929, 1651, 3301,\n",
       "              6780, 5725, 6209, 1269, 5404, 4316, 3390, 7885, 6246, 3061,  359,\n",
       "              7459, 6811, 5033, 1688, 4458, 5024,  805, 5616, 5739, 2188, 7474,\n",
       "              7664,  424, 2460, 2238, 2054, 1204, 6578, 5168, 1053, 3670, 4699,\n",
       "              2697, 4142, 8114, 6583, 5839, 4454, 1826, 5860, 1646, 5693, 3759,\n",
       "              7887, 5220, 7850, 3591, 3517,  944, 7904, 4710, 3577, 4588, 3387,\n",
       "              6163, 7651, 7391, 3916, 5452, 1964,  854, 7002, 6313, 1465, 8092,\n",
       "              7437, 2274, 7706, 4106, 5936, 5815, 5541,  282, 1145, 1039, 2651,\n",
       "              4946, 1036, 5735,  293, 5595, 7931, 7665, 1111, 4022,  955, 1180,\n",
       "              4562, 3911, 5572, 1014, 1313,    2, 3992, 6168,  450,  637,    4,\n",
       "              6749, 3893,   64, 1813, 4882, 1182, 1273, 7596, 3639, 4081, 5622,\n",
       "              5220, 1305, 2995,  743, 7284, 7528, 7873, 1539, 2946, 7111, 6697,\n",
       "              2672, 7497, 5259, 4477, 1739, 1155, 2468, 3851, 7954, 4159, 6749,\n",
       "              7952, 6793,  404, 3334, 4823, 7313, 3825, 5794, 1787, 2992, 5082,\n",
       "              2365, 2180, 6815,  249, 6417, 6729,  607, 4061, 1454, 8155, 1253,\n",
       "              2112,  609, 1436, 7633, 3631, 7871, 6817, 6289, 3045, 2144, 3183,\n",
       "              4008, 8000, 1106, 3092, 4815, 3651, 4635, 3580, 8079, 5768, 2021,\n",
       "              2416, 3047, 4846, 6222, 6970,  135, 2159,  259, 3791, 3951, 4874,\n",
       "              5552, 7984, 4581, 6862, 8140, 6270, 7576,  728, 7323, 7765, 8068,\n",
       "              1025, 3554, 7635, 2164, 6748,  752, 6028, 6564, 2840,  126, 1266,\n",
       "              4860], dtype=int32), 5864)                                        ,\n",
       "       (array([7171, 6861, 7621, 3199, 5269, 3427, 3664, 2581, 5623, 1147, 1068,\n",
       "              4734, 7903, 1147, 7665,  258,  202,  135, 7193, 3923, 2456, 4992,\n",
       "              3107, 7618, 5152, 1906, 6436, 2525,  155, 7924, 6083, 2927, 7906,\n",
       "              3298,  281, 7993, 5273, 8032, 1338, 5073, 1229, 2515, 3630, 5408,\n",
       "              2465,  253, 5222, 4462, 1011, 4167, 8130, 4022,  149, 4312,  226,\n",
       "              1218, 7889, 1007, 5173, 4288,  886, 7462, 7422,  332, 2195,  547,\n",
       "              4518, 2694,  595, 6048, 6623, 1237, 4252, 3826, 5412, 4388, 6947,\n",
       "              7690, 6747, 5028, 6083, 6648, 1387,  610, 1590, 3224, 7684, 6584,\n",
       "              6380, 3362, 1785, 3994, 6222, 4716, 3223,  231, 5826, 3591, 2704,\n",
       "              6614, 7105, 7620, 6831, 4965, 4737, 5265, 4376, 2719, 1923, 4757,\n",
       "               378, 7223, 2699, 3079, 7320,  142, 3650, 7649, 4344, 4602, 4519,\n",
       "              1778, 6599, 5449, 7071, 6480, 2167, 4556, 5555, 2642, 2154, 2673,\n",
       "              5259, 1174, 5373, 1168, 3470, 5821, 8043, 7141, 1011, 6649, 4220,\n",
       "              2834, 7620, 6538, 4221, 2403, 4194, 4924,   47, 7701, 2515, 2786,\n",
       "              6264, 4584, 8133, 3305, 7032, 7200, 2428, 7497, 7266, 3894,  157,\n",
       "               865, 3675, 5973, 4437,  384,  868, 5925, 5530, 3333, 1838, 5597,\n",
       "              3980,  568, 5590,  741, 5386, 8102, 4832, 3899, 3143,  413, 1881,\n",
       "              3728, 5777,  549, 3797, 1203, 5756, 2003, 7906, 3603, 3684, 3201,\n",
       "              4333, 4204, 4881, 3836, 3443, 1256, 7541, 1945,  390, 4773, 6268,\n",
       "              6367, 4313, 2795, 3941, 3343, 6744, 7261, 2404, 2316, 1599,  748,\n",
       "              2566,   14, 6870, 6738, 2277, 1113, 1953, 3262, 1375, 7765, 1274,\n",
       "              7170, 3778, 7935, 2664, 4348, 4112, 2279, 2114, 8078, 7976, 6935,\n",
       "              4733, 4627, 7179, 7792, 7224, 6452, 6722, 2491,  711, 6516, 5534,\n",
       "              7954, 3391, 2235, 3678, 6235, 4228, 4926, 7779, 6980, 1779, 4943,\n",
       "              6735, 6117,  778, 6224, 3071, 1023, 2178, 6378, 3691, 1760, 6097,\n",
       "               698, 7420, 2294, 7002, 3791, 1189, 6006, 5111, 2627, 2249, 5015,\n",
       "              3290, 5692, 2577, 2592, 6465, 5247, 6956, 1456, 2847,  482, 7135,\n",
       "              5041, 1148, 3189, 4130, 2298, 5037, 7594, 3767, 5276, 1027, 4006,\n",
       "              1103, 6072,  904, 5850,  648, 7685,  341, 7197, 6757, 4895, 7227,\n",
       "              1121], dtype=int32), 5694)                                        ],\n",
       "      dtype=object)"
      ]
     },
     "execution_count": 6,
     "metadata": {},
     "output_type": "execute_result"
    }
   ],
   "source": [
    "bits = [0, 1, 1, 0]\n",
    "ct = encrypt(bits, publickey, q)\n",
    "ct"
   ]
  },
  {
   "cell_type": "code",
   "execution_count": 7,
   "metadata": {},
   "outputs": [
    {
     "data": {
      "text/plain": [
       "array([0, 1, 1, 0])"
      ]
     },
     "execution_count": 7,
     "metadata": {},
     "output_type": "execute_result"
    }
   ],
   "source": [
    "pt = decrypt(ct, s, q)\n",
    "pt"
   ]
  },
  {
   "cell_type": "markdown",
   "metadata": {},
   "source": [
    "## Experiment on secured schemes"
   ]
  },
  {
   "cell_type": "code",
   "execution_count": 8,
   "metadata": {},
   "outputs": [],
   "source": [
    "def UniformMod(q, n):  \n",
    "    a = -(q // 2)\n",
    "    b = -a - 1 if q % 2 == 0 else -a\n",
    "    samples = np.random.randint(a, b + 1, n)\n",
    "    return samples\n",
    "\n",
    "def CenteredBinomial(eta, n):\n",
    "    a = np.random.binomial(eta, 0.5, n)\n",
    "    b = np.random.binomial(eta, 0.5, n)\n",
    "    return a-b\n",
    "\n",
    "def cal_size(ct, q):\n",
    "    a, _ = ct[0]\n",
    "    # number of elements of the matrix ct, len(a) is the len of a_prime and 1 is the length of b_prime\n",
    "    elements_num = (len(a) + 1) * len(ct)\n",
    "    # calculate number of bits needed for each element (with a range of 0 to q-1)\n",
    "    size = elements_num * np.ceil(np.log2(q))\n",
    "    # convert to bytes\n",
    "    size /= 8\n",
    "    return size"
   ]
  },
  {
   "cell_type": "code",
   "execution_count": 9,
   "metadata": {},
   "outputs": [
    {
     "data": {
      "text/plain": [
       "array([1, 1, 1, 1, 1, 0, 0, 0, 0, 1])"
      ]
     },
     "execution_count": 9,
     "metadata": {},
     "output_type": "execute_result"
    }
   ],
   "source": [
    "encryption_time = []\n",
    "ct_size = []\n",
    "schemes = [\"Kyber512\", \"Kyber768\", \"Kyber1024\", \"LightSaber\", \"Saber\", \"FireSaber\", \"Frodo640\", \"Frodo976\", \"Frodo1344\"]\n",
    "# shortest estimated time to break the schemes in the power of two\n",
    "security = [140.3, 201.0, 270.8, 140.1, 208.2, 275.8, 163.0, 225.2, 287.9]\n",
    "\n",
    "# plaintext to encrypt on is an array of binary of 10bits\n",
    "pt = np.random.randint(0, 2, 10)\n",
    "pt"
   ]
  },
  {
   "cell_type": "markdown",
   "metadata": {},
   "source": [
    "### Kyber 512"
   ]
  },
  {
   "cell_type": "code",
   "execution_count": 10,
   "metadata": {},
   "outputs": [],
   "source": [
    "# configurations\n",
    "n=2 * 256\n",
    "q=3329\n",
    "Xs=CenteredBinomial(3, n)\n",
    "Xe=CenteredBinomial(3, n)\n",
    "m=2 * 256\n",
    "\n",
    "A = np.random.randint(0, q, (m, n))\n",
    "b = (np.dot(A, Xs) + Xe) % q"
   ]
  },
  {
   "cell_type": "code",
   "execution_count": 11,
   "metadata": {},
   "outputs": [
    {
     "name": "stdout",
     "output_type": "stream",
     "text": [
      "0.008863687515258789\n",
      "7695.0\n"
     ]
    }
   ],
   "source": [
    "start = time.time()\n",
    "# encrypt 10 times and returns the average\n",
    "for i in range(10):\n",
    "    ct = encrypt(pt, (A, b), q)\n",
    "time_needed = (time.time() - start) / 10\n",
    "print(time_needed)\n",
    "encryption_time.append(time_needed)\n",
    "size = cal_size(ct, q)\n",
    "print(size)\n",
    "ct_size.append(size)"
   ]
  },
  {
   "cell_type": "code",
   "execution_count": 12,
   "metadata": {},
   "outputs": [],
   "source": [
    "output = np.array(decrypt(ct, Xs, q))\n",
    "assert np.array_equal(pt, output)"
   ]
  },
  {
   "cell_type": "markdown",
   "metadata": {},
   "source": [
    "### Kyber 768"
   ]
  },
  {
   "cell_type": "code",
   "execution_count": 13,
   "metadata": {},
   "outputs": [],
   "source": [
    "n=3 * 256\n",
    "q=3329\n",
    "Xs=CenteredBinomial(2, n)\n",
    "Xe=CenteredBinomial(2, n)\n",
    "m=3 * 256\n",
    "\n",
    "A = np.random.randint(0, q, (m, n))\n",
    "b = (np.dot(A, Xs) + Xe) % q"
   ]
  },
  {
   "cell_type": "code",
   "execution_count": 14,
   "metadata": {},
   "outputs": [
    {
     "name": "stdout",
     "output_type": "stream",
     "text": [
      "0.017716431617736818\n",
      "11535.0\n"
     ]
    }
   ],
   "source": [
    "start = time.time()\n",
    "for i in range(10):\n",
    "    ct = encrypt(pt, (A, b), q)\n",
    "time_needed = (time.time() - start) / 10\n",
    "print(time_needed)\n",
    "encryption_time.append(time_needed)\n",
    "size = cal_size(ct, q)\n",
    "print(size)\n",
    "ct_size.append(size)"
   ]
  },
  {
   "cell_type": "code",
   "execution_count": 15,
   "metadata": {},
   "outputs": [],
   "source": [
    "output = np.array(decrypt(ct, Xs, q))\n",
    "assert np.array_equal(pt, output)"
   ]
  },
  {
   "cell_type": "markdown",
   "metadata": {},
   "source": [
    "### Kyber 1024"
   ]
  },
  {
   "cell_type": "code",
   "execution_count": 16,
   "metadata": {},
   "outputs": [],
   "source": [
    "n=4 * 256\n",
    "q=3329\n",
    "Xs=CenteredBinomial(2, n)\n",
    "Xe=CenteredBinomial(2, n)\n",
    "m=4 * 256\n",
    "\n",
    "A = np.random.randint(0, q, (m, n))\n",
    "b = (np.dot(A, Xs) + Xe) % q"
   ]
  },
  {
   "cell_type": "code",
   "execution_count": 17,
   "metadata": {},
   "outputs": [
    {
     "name": "stdout",
     "output_type": "stream",
     "text": [
      "0.05190322399139404\n",
      "15375.0\n"
     ]
    }
   ],
   "source": [
    "start = time.time()\n",
    "for i in range(10):\n",
    "    ct = encrypt(pt, (A, b), q)\n",
    "time_needed = (time.time() - start) / 10\n",
    "print(time_needed)\n",
    "encryption_time.append(time_needed)\n",
    "size = cal_size(ct, q)\n",
    "print(size)\n",
    "ct_size.append(size)"
   ]
  },
  {
   "cell_type": "code",
   "execution_count": 18,
   "metadata": {},
   "outputs": [],
   "source": [
    "output = np.array(decrypt(ct, Xs, q))\n",
    "assert np.array_equal(pt, output)"
   ]
  },
  {
   "cell_type": "markdown",
   "metadata": {},
   "source": [
    "### LightSaber"
   ]
  },
  {
   "cell_type": "code",
   "execution_count": 19,
   "metadata": {},
   "outputs": [],
   "source": [
    "n=2 * 256\n",
    "q=8192\n",
    "Xs=CenteredBinomial(5, n)\n",
    "Xe=UniformMod(8, n)\n",
    "m=2 * 256\n",
    "\n",
    "A = np.random.randint(0, q, (m, n))\n",
    "b = (np.dot(A, Xs) + Xe) % q"
   ]
  },
  {
   "cell_type": "code",
   "execution_count": 20,
   "metadata": {},
   "outputs": [
    {
     "name": "stdout",
     "output_type": "stream",
     "text": [
      "0.009805536270141602\n",
      "8336.25\n"
     ]
    }
   ],
   "source": [
    "start = time.time()\n",
    "for i in range(10):\n",
    "    ct = encrypt(pt, (A, b), q)\n",
    "time_needed = (time.time() - start) / 10\n",
    "print(time_needed)\n",
    "encryption_time.append(time_needed)\n",
    "size = cal_size(ct, q)\n",
    "print(size)\n",
    "ct_size.append(size)"
   ]
  },
  {
   "cell_type": "code",
   "execution_count": 21,
   "metadata": {},
   "outputs": [],
   "source": [
    "output = np.array(decrypt(ct, Xs, q))\n",
    "assert np.array_equal(pt, output)"
   ]
  },
  {
   "cell_type": "markdown",
   "metadata": {},
   "source": [
    "### Saber"
   ]
  },
  {
   "cell_type": "code",
   "execution_count": 22,
   "metadata": {},
   "outputs": [],
   "source": [
    "n=3 * 256\n",
    "q=8192\n",
    "Xs=CenteredBinomial(4, n)\n",
    "Xe=UniformMod(8, n)\n",
    "m=3 * 256\n",
    "\n",
    "A = np.random.randint(0, q, (m, n))\n",
    "b = (np.dot(A, Xs) + Xe) % q"
   ]
  },
  {
   "cell_type": "code",
   "execution_count": 23,
   "metadata": {},
   "outputs": [
    {
     "name": "stdout",
     "output_type": "stream",
     "text": [
      "0.019374680519104005\n",
      "12496.25\n"
     ]
    }
   ],
   "source": [
    "start = time.time()\n",
    "for i in range(10):\n",
    "    ct = encrypt(pt, (A, b), q)\n",
    "time_needed = (time.time() - start) / 10\n",
    "print(time_needed)\n",
    "encryption_time.append(time_needed)\n",
    "size = cal_size(ct, q)\n",
    "print(size)\n",
    "ct_size.append(size)"
   ]
  },
  {
   "cell_type": "code",
   "execution_count": 24,
   "metadata": {},
   "outputs": [],
   "source": [
    "output = np.array(decrypt(ct, Xs, q))\n",
    "assert np.array_equal(pt, output)"
   ]
  },
  {
   "cell_type": "markdown",
   "metadata": {},
   "source": [
    "### FireSaber"
   ]
  },
  {
   "cell_type": "code",
   "execution_count": 25,
   "metadata": {},
   "outputs": [],
   "source": [
    "n=4 * 256\n",
    "q=8192\n",
    "Xs=CenteredBinomial(3, n)\n",
    "Xe=UniformMod(8, n)\n",
    "m=4 * 256\n",
    "\n",
    "A = np.random.randint(0, q, (m, n))\n",
    "b = (np.dot(A, Xs) + Xe) % q"
   ]
  },
  {
   "cell_type": "code",
   "execution_count": 26,
   "metadata": {},
   "outputs": [
    {
     "name": "stdout",
     "output_type": "stream",
     "text": [
      "0.03796250820159912\n",
      "16656.25\n"
     ]
    }
   ],
   "source": [
    "start = time.time()\n",
    "for i in range(10):\n",
    "    ct = encrypt(pt, (A, b), q)\n",
    "time_needed = (time.time() - start) / 10\n",
    "print(time_needed)\n",
    "encryption_time.append(time_needed)\n",
    "size = cal_size(ct, q)\n",
    "print(size)\n",
    "ct_size.append(size)"
   ]
  },
  {
   "cell_type": "code",
   "execution_count": 27,
   "metadata": {},
   "outputs": [],
   "source": [
    "output = np.array(decrypt(ct, Xs, q))\n",
    "assert np.array_equal(pt, output)"
   ]
  },
  {
   "cell_type": "markdown",
   "metadata": {},
   "source": [
    "### Frodo 640"
   ]
  },
  {
   "cell_type": "code",
   "execution_count": 28,
   "metadata": {},
   "outputs": [],
   "source": [
    "n=640\n",
    "q=2**15\n",
    "m=640 + 16\n",
    "Xs=np.round(np.random.normal(0, 2.8, n)).astype(int)\n",
    "Xe=np.round(np.random.normal(0, 2.8, m)).astype(int)\n",
    "\n",
    "A = np.random.randint(0, q, (m, n))\n",
    "b = (np.dot(A, Xs) + Xe) % q"
   ]
  },
  {
   "cell_type": "code",
   "execution_count": 29,
   "metadata": {},
   "outputs": [
    {
     "name": "stdout",
     "output_type": "stream",
     "text": [
      "0.009429359436035156\n",
      "12018.75\n"
     ]
    }
   ],
   "source": [
    "start = time.time()\n",
    "for i in range(10):\n",
    "    ct = encrypt(pt, (A, b), q)\n",
    "time_needed = (time.time() - start) / 10\n",
    "print(time_needed)\n",
    "encryption_time.append(time_needed)\n",
    "size = cal_size(ct, q)\n",
    "print(size)\n",
    "ct_size.append(size)"
   ]
  },
  {
   "cell_type": "code",
   "execution_count": 30,
   "metadata": {},
   "outputs": [],
   "source": [
    "output = np.array(decrypt(ct, Xs, q))\n",
    "assert np.array_equal(pt, output)"
   ]
  },
  {
   "cell_type": "markdown",
   "metadata": {},
   "source": [
    "### Frodo 976"
   ]
  },
  {
   "cell_type": "code",
   "execution_count": 31,
   "metadata": {},
   "outputs": [],
   "source": [
    "n=976\n",
    "q=2**16\n",
    "m=976 + 16\n",
    "Xs=np.round(np.random.normal(0, 2.3, n)).astype(int)\n",
    "Xe=np.round(np.random.normal(0, 2.3, m)).astype(int)\n",
    "\n",
    "A = np.random.randint(0, q, (m, n))\n",
    "b = (np.dot(A, Xs) + Xe) % q"
   ]
  },
  {
   "cell_type": "code",
   "execution_count": 32,
   "metadata": {},
   "outputs": [
    {
     "name": "stdout",
     "output_type": "stream",
     "text": [
      "0.023816132545471193\n",
      "19540.0\n"
     ]
    }
   ],
   "source": [
    "start = time.time()\n",
    "for i in range(10):\n",
    "    ct = encrypt(pt, (A, b), q)\n",
    "time_needed = (time.time() - start) / 10\n",
    "print(time_needed)\n",
    "encryption_time.append(time_needed)\n",
    "size = cal_size(ct, q)\n",
    "print(size)\n",
    "ct_size.append(size)"
   ]
  },
  {
   "cell_type": "code",
   "execution_count": 33,
   "metadata": {},
   "outputs": [],
   "source": [
    "output = np.array(decrypt(ct, Xs, q))\n",
    "assert np.array_equal(pt, output)"
   ]
  },
  {
   "cell_type": "markdown",
   "metadata": {},
   "source": [
    "### Frodo 1344"
   ]
  },
  {
   "cell_type": "code",
   "execution_count": 34,
   "metadata": {},
   "outputs": [],
   "source": [
    "n=1344\n",
    "q=2**16\n",
    "m=1344 + 16\n",
    "Xs=np.round(np.random.normal(0, 1.4, n)).astype(int)\n",
    "Xe=np.round(np.random.normal(0, 1.4, m)).astype(int)\n",
    "\n",
    "A = np.random.randint(0, q, (m, n))\n",
    "b = (np.dot(A, Xs) + Xe) % q"
   ]
  },
  {
   "cell_type": "code",
   "execution_count": 35,
   "metadata": {},
   "outputs": [
    {
     "name": "stdout",
     "output_type": "stream",
     "text": [
      "0.0468388557434082\n",
      "26900.0\n"
     ]
    }
   ],
   "source": [
    "start = time.time()\n",
    "for i in range(10):\n",
    "    ct = encrypt(pt, (A, b), q)\n",
    "time_needed = (time.time() - start) / 10\n",
    "print(time_needed)\n",
    "encryption_time.append(time_needed)\n",
    "size = cal_size(ct, q)\n",
    "print(size)\n",
    "ct_size.append(size)"
   ]
  },
  {
   "cell_type": "code",
   "execution_count": 36,
   "metadata": {},
   "outputs": [],
   "source": [
    "output = np.array(decrypt(ct, Xs, q))\n",
    "assert np.array_equal(pt, output)"
   ]
  },
  {
   "cell_type": "markdown",
   "metadata": {},
   "source": [
    "## Outputting the results"
   ]
  },
  {
   "cell_type": "code",
   "execution_count": 37,
   "metadata": {},
   "outputs": [
    {
     "data": {
      "image/png": "[encoded data removed]",
      "text/plain": [
       "<Figure size 1200x600 with 2 Axes>"
      ]
     },
     "metadata": {},
     "output_type": "display_data"
    }
   ],
   "source": [
    "df = pd.DataFrame({\n",
    "    'Time(in ms)': encryption_time,\n",
    "    'Size(in bytes)': ct_size,\n",
    "    'Security(in bits)': security\n",
    "}, index=schemes)\n",
    "\n",
    "# Plotting graph\n",
    "fig, axes = plt.subplots(nrows=1, ncols=2, figsize=(12, 6))\n",
    "\n",
    "# Plot time data\n",
    "df['Time(in ms)'].plot(kind='bar', ax=axes[0], color='skyblue')\n",
    "axes[0].set_title('Encryption Time')\n",
    "axes[0].set_ylabel('Time (in ms)')\n",
    "axes[0].set_xlabel('Schemes')\n",
    "axes[0].tick_params(axis='x', rotation=45)\n",
    "\n",
    "# Plot size data\n",
    "df['Size(in bytes)'].plot(kind='bar', ax=axes[1], color='orange')\n",
    "axes[1].set_title('Ciphertext Size')\n",
    "axes[1].set_ylabel('Size (in bytes)')\n",
    "axes[1].set_xlabel('Schemes')\n",
    "axes[1].tick_params(axis='x', rotation=45)\n",
    "\n",
    "plt.tight_layout()\n",
    "plt.show()"
   ]
  },
  {
   "cell_type": "code",
   "execution_count": 38,
   "metadata": {},
   "outputs": [
    {
     "name": "stderr",
     "output_type": "stream",
     "text": [
      "C:\\Users\\Haygen Tsoi\\AppData\\Local\\Temp\\ipykernel_4484\\483558582.py:10: FutureWarning: Series.__getitem__ treating keys as positions is deprecated. In a future version, integer keys will always be treated as labels (consistent with DataFrame behavior). To access a value by position, use `ser.iloc[pos]`\n",
      "  axes[0].annotate(txt, (df['Security(in bits)'][i], df['Time(in ms)'][i]))\n",
      "C:\\Users\\Haygen Tsoi\\AppData\\Local\\Temp\\ipykernel_4484\\483558582.py:19: FutureWarning: Series.__getitem__ treating keys as positions is deprecated. In a future version, integer keys will always be treated as labels (consistent with DataFrame behavior). To access a value by position, use `ser.iloc[pos]`\n",
      "  axes[1].annotate(txt, (df['Security(in bits)'][i], df['Size(in bytes)'][i]))\n"
     ]
    },
    {
     "data": {
      "image/png": "[encoded data removed]",
      "text/plain": [
       "<Figure size 1200x600 with 2 Axes>"
      ]
     },
     "metadata": {},
     "output_type": "display_data"
    }
   ],
   "source": [
    "fig, axes = plt.subplots(nrows=1, ncols=2, figsize=(12, 6))\n",
    "\n",
    "# Plot 'Time(in ms)' vs. 'Security(in bits)'\n",
    "axes[0].scatter(df['Security(in bits)'], df['Time(in ms)'], color='blue')\n",
    "axes[0].set_title('Time vs. Security')\n",
    "axes[0].set_xlabel('Security (in bits)')\n",
    "axes[0].set_ylabel('Time (in ms)')\n",
    "\n",
    "for i, txt in enumerate(schemes):\n",
    "    axes[0].annotate(txt, (df['Security(in bits)'][i], df['Time(in ms)'][i]))\n",
    "\n",
    "# Plot 'Size(in bytes)' vs. 'Security(in bits)'\n",
    "axes[1].scatter(df['Security(in bits)'], df['Size(in bytes)'], color='orange')\n",
    "axes[1].set_title('Size vs. Security')\n",
    "axes[1].set_xlabel('Security (in bits)')\n",
    "axes[1].set_ylabel('Size (in bytes)')\n",
    "\n",
    "for i, txt in enumerate(schemes):\n",
    "    axes[1].annotate(txt, (df['Security(in bits)'][i], df['Size(in bytes)'][i]))\n",
    "\n",
    "\n",
    "plt.tight_layout()\n",
    "plt.show()\n"
   ]
  },
  {
   "cell_type": "code",
   "execution_count": 39,
   "metadata": {},
   "outputs": [
    {
     "name": "stdout",
     "output_type": "stream",
     "text": [
      "[0.008863687515258789, 0.017716431617736818, 0.05190322399139404, 0.009805536270141602, 0.019374680519104005, 0.03796250820159912, 0.009429359436035156, 0.023816132545471193, 0.0468388557434082]\n",
      "[7695.0, 11535.0, 15375.0, 8336.25, 12496.25, 16656.25, 12018.75, 19540.0, 26900.0]\n"
     ]
    }
   ],
   "source": [
    "print(encryption_time)\n",
    "print(ct_size)"
   ]
  }
 ],
 "metadata": {
  "kernelspec": {
   "display_name": "projectenv",
   "language": "python",
   "name": "python3"
  },
  "language_info": {
   "codemirror_mode": {
    "name": "ipython",
    "version": 3
   },
   "file_extension": ".py",
   "mimetype": "text/x-python",
   "name": "python",
   "nbconvert_exporter": "python",
   "pygments_lexer": "ipython3",
   "version": "3.9.18"
  }
 },
 "nbformat": 4,
 "nbformat_minor": 2
}
